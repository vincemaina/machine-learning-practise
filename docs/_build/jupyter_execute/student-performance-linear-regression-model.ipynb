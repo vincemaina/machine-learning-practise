{
 "cells": [
  {
   "cell_type": "markdown",
   "metadata": {},
   "source": [
    "# Multiple Linear Regression\n",
    "## Building a Multiple Linear Regression Model (on Student Performance Data)\n",
    "\n",
    "Using [this dataset from kaggle](https://www.kaggle.com/datasets/nikhil7280/student-performance-multiple-linear-regression?resource=download), I'll be attempting to build a simple machine learning model that can predict a student's performance based on how many hours they have studied, their sleep hours, the number of sample question practiced etc.\n",
    "\n",
    "Features (inputs):\n",
    "- Hours studied\n",
    "- Previous scores\n",
    "- Extracurricular activities\n",
    "- Sleep hours\n",
    "- Sample question papers practised\n",
    "- Performance index\n",
    "\n",
    "Label (output):\n",
    "- Score\n",
    "\n",
    "\n",
    "The dataset was originally designed to predict performance index. But I think it'd make more sense to predict the student's final score, based on the above features.\n",
    "So the for the purposes of this study, I will treat 'Previous scores' as 'Final score' and will rename this in the dataset.\n",
    "\n",
    "We'll assume performance index, is some indicator that is updated the user completes coursework, homework etc.\n",
    "\n",
    "And so the new problem is predicting the student's final exam score, based on their performance during the rest of the year."
   ]
  },
  {
   "cell_type": "markdown",
   "metadata": {},
   "source": [
    "## Loading the data (using pandas)"
   ]
  },
  {
   "cell_type": "code",
   "execution_count": 1,
   "metadata": {},
   "outputs": [
    {
     "data": {
      "text/html": [
       "<div>\n",
       "<style scoped>\n",
       "    .dataframe tbody tr th:only-of-type {\n",
       "        vertical-align: middle;\n",
       "    }\n",
       "\n",
       "    .dataframe tbody tr th {\n",
       "        vertical-align: top;\n",
       "    }\n",
       "\n",
       "    .dataframe thead th {\n",
       "        text-align: right;\n",
       "    }\n",
       "</style>\n",
       "<table border=\"1\" class=\"dataframe\">\n",
       "  <thead>\n",
       "    <tr style=\"text-align: right;\">\n",
       "      <th></th>\n",
       "      <th>Hours Studied</th>\n",
       "      <th>Final Score</th>\n",
       "      <th>Extracurricular Activities</th>\n",
       "      <th>Sleep Hours</th>\n",
       "      <th>Sample Question Papers Practiced</th>\n",
       "      <th>Performance Index</th>\n",
       "    </tr>\n",
       "  </thead>\n",
       "  <tbody>\n",
       "    <tr>\n",
       "      <th>0</th>\n",
       "      <td>7</td>\n",
       "      <td>99</td>\n",
       "      <td>Yes</td>\n",
       "      <td>9</td>\n",
       "      <td>1</td>\n",
       "      <td>91.0</td>\n",
       "    </tr>\n",
       "    <tr>\n",
       "      <th>1</th>\n",
       "      <td>4</td>\n",
       "      <td>82</td>\n",
       "      <td>No</td>\n",
       "      <td>4</td>\n",
       "      <td>2</td>\n",
       "      <td>65.0</td>\n",
       "    </tr>\n",
       "    <tr>\n",
       "      <th>2</th>\n",
       "      <td>8</td>\n",
       "      <td>51</td>\n",
       "      <td>Yes</td>\n",
       "      <td>7</td>\n",
       "      <td>2</td>\n",
       "      <td>45.0</td>\n",
       "    </tr>\n",
       "    <tr>\n",
       "      <th>3</th>\n",
       "      <td>5</td>\n",
       "      <td>52</td>\n",
       "      <td>Yes</td>\n",
       "      <td>5</td>\n",
       "      <td>2</td>\n",
       "      <td>36.0</td>\n",
       "    </tr>\n",
       "    <tr>\n",
       "      <th>4</th>\n",
       "      <td>7</td>\n",
       "      <td>75</td>\n",
       "      <td>No</td>\n",
       "      <td>8</td>\n",
       "      <td>5</td>\n",
       "      <td>66.0</td>\n",
       "    </tr>\n",
       "  </tbody>\n",
       "</table>\n",
       "</div>"
      ],
      "text/plain": [
       "   Hours Studied  Final Score Extracurricular Activities  Sleep Hours  \\\n",
       "0              7           99                        Yes            9   \n",
       "1              4           82                         No            4   \n",
       "2              8           51                        Yes            7   \n",
       "3              5           52                        Yes            5   \n",
       "4              7           75                         No            8   \n",
       "\n",
       "   Sample Question Papers Practiced  Performance Index  \n",
       "0                                 1               91.0  \n",
       "1                                 2               65.0  \n",
       "2                                 2               45.0  \n",
       "3                                 2               36.0  \n",
       "4                                 5               66.0  "
      ]
     },
     "execution_count": 1,
     "metadata": {},
     "output_type": "execute_result"
    }
   ],
   "source": [
    "import pandas as pd\n",
    "\n",
    "data = pd.read_csv(\"datasets/student-performance.csv\")\n",
    "data.head()"
   ]
  },
  {
   "cell_type": "markdown",
   "metadata": {},
   "source": [
    "## Preprocessing"
   ]
  },
  {
   "cell_type": "code",
   "execution_count": 2,
   "metadata": {},
   "outputs": [],
   "source": [
    "data['Extracurricular Activities'] = [(x == \"Yes\") for x in data['Extracurricular Activities']]"
   ]
  },
  {
   "cell_type": "markdown",
   "metadata": {},
   "source": [
    "## Split dataset into predictors and target"
   ]
  },
  {
   "cell_type": "code",
   "execution_count": 3,
   "metadata": {},
   "outputs": [
    {
     "data": {
      "text/html": [
       "<div>\n",
       "<style scoped>\n",
       "    .dataframe tbody tr th:only-of-type {\n",
       "        vertical-align: middle;\n",
       "    }\n",
       "\n",
       "    .dataframe tbody tr th {\n",
       "        vertical-align: top;\n",
       "    }\n",
       "\n",
       "    .dataframe thead th {\n",
       "        text-align: right;\n",
       "    }\n",
       "</style>\n",
       "<table border=\"1\" class=\"dataframe\">\n",
       "  <thead>\n",
       "    <tr style=\"text-align: right;\">\n",
       "      <th></th>\n",
       "      <th>Hours Studied</th>\n",
       "      <th>Extracurricular Activities</th>\n",
       "      <th>Sleep Hours</th>\n",
       "      <th>Sample Question Papers Practiced</th>\n",
       "      <th>Performance Index</th>\n",
       "    </tr>\n",
       "  </thead>\n",
       "  <tbody>\n",
       "    <tr>\n",
       "      <th>0</th>\n",
       "      <td>7</td>\n",
       "      <td>True</td>\n",
       "      <td>9</td>\n",
       "      <td>1</td>\n",
       "      <td>91.0</td>\n",
       "    </tr>\n",
       "    <tr>\n",
       "      <th>1</th>\n",
       "      <td>4</td>\n",
       "      <td>False</td>\n",
       "      <td>4</td>\n",
       "      <td>2</td>\n",
       "      <td>65.0</td>\n",
       "    </tr>\n",
       "    <tr>\n",
       "      <th>2</th>\n",
       "      <td>8</td>\n",
       "      <td>True</td>\n",
       "      <td>7</td>\n",
       "      <td>2</td>\n",
       "      <td>45.0</td>\n",
       "    </tr>\n",
       "    <tr>\n",
       "      <th>3</th>\n",
       "      <td>5</td>\n",
       "      <td>True</td>\n",
       "      <td>5</td>\n",
       "      <td>2</td>\n",
       "      <td>36.0</td>\n",
       "    </tr>\n",
       "    <tr>\n",
       "      <th>4</th>\n",
       "      <td>7</td>\n",
       "      <td>False</td>\n",
       "      <td>8</td>\n",
       "      <td>5</td>\n",
       "      <td>66.0</td>\n",
       "    </tr>\n",
       "  </tbody>\n",
       "</table>\n",
       "</div>"
      ],
      "text/plain": [
       "   Hours Studied  Extracurricular Activities  Sleep Hours  \\\n",
       "0              7                        True            9   \n",
       "1              4                       False            4   \n",
       "2              8                        True            7   \n",
       "3              5                        True            5   \n",
       "4              7                       False            8   \n",
       "\n",
       "   Sample Question Papers Practiced  Performance Index  \n",
       "0                                 1               91.0  \n",
       "1                                 2               65.0  \n",
       "2                                 2               45.0  \n",
       "3                                 2               36.0  \n",
       "4                                 5               66.0  "
      ]
     },
     "execution_count": 3,
     "metadata": {},
     "output_type": "execute_result"
    }
   ],
   "source": [
    "# Inputs\n",
    "predictors = data[[\n",
    "    'Hours Studied',\n",
    "    'Extracurricular Activities',\n",
    "    'Sleep Hours',\n",
    "    'Sample Question Papers Practiced',\n",
    "    'Performance Index'\n",
    "]]\n",
    "predictors.head()"
   ]
  },
  {
   "cell_type": "code",
   "execution_count": 4,
   "metadata": {},
   "outputs": [
    {
     "data": {
      "text/plain": [
       "0    99\n",
       "1    82\n",
       "2    51\n",
       "3    52\n",
       "4    75\n",
       "Name: Final Score, dtype: int64"
      ]
     },
     "execution_count": 4,
     "metadata": {},
     "output_type": "execute_result"
    }
   ],
   "source": [
    "# Output\n",
    "target = data['Final Score']\n",
    "target.head()"
   ]
  },
  {
   "cell_type": "markdown",
   "metadata": {},
   "source": [
    "## Split dataset into training data and test data"
   ]
  },
  {
   "cell_type": "code",
   "execution_count": 5,
   "metadata": {},
   "outputs": [],
   "source": [
    "from sklearn.model_selection import train_test_split\n",
    "\n",
    "X_train, X_test, y_train, y_test = train_test_split(predictors, target, test_size=0.2, shuffle=True)"
   ]
  },
  {
   "cell_type": "markdown",
   "metadata": {},
   "source": [
    "## Multiple Linear Regression"
   ]
  },
  {
   "cell_type": "code",
   "execution_count": 6,
   "metadata": {},
   "outputs": [
    {
     "data": {
      "text/plain": [
       "0.9870785412995526"
      ]
     },
     "execution_count": 6,
     "metadata": {},
     "output_type": "execute_result"
    }
   ],
   "source": [
    "from sklearn.linear_model import LinearRegression\n",
    "\n",
    "lf = LinearRegression()\n",
    "lf.fit(X_train, y_train)\n",
    "lf.score(X_test, y_test)"
   ]
  },
  {
   "cell_type": "markdown",
   "metadata": {},
   "source": [
    "## Testing the model\n",
    "\n",
    "### Displaying predictions alongside actual final scores"
   ]
  },
  {
   "cell_type": "code",
   "execution_count": 7,
   "metadata": {},
   "outputs": [
    {
     "data": {
      "text/html": [
       "<div>\n",
       "<style scoped>\n",
       "    .dataframe tbody tr th:only-of-type {\n",
       "        vertical-align: middle;\n",
       "    }\n",
       "\n",
       "    .dataframe tbody tr th {\n",
       "        vertical-align: top;\n",
       "    }\n",
       "\n",
       "    .dataframe thead th {\n",
       "        text-align: right;\n",
       "    }\n",
       "</style>\n",
       "<table border=\"1\" class=\"dataframe\">\n",
       "  <thead>\n",
       "    <tr style=\"text-align: right;\">\n",
       "      <th></th>\n",
       "      <th>Predicted</th>\n",
       "      <th>Actual</th>\n",
       "      <th>Difference</th>\n",
       "    </tr>\n",
       "  </thead>\n",
       "  <tbody>\n",
       "    <tr>\n",
       "      <th>1516</th>\n",
       "      <td>50.555830</td>\n",
       "      <td>50</td>\n",
       "      <td>-0.555830</td>\n",
       "    </tr>\n",
       "    <tr>\n",
       "      <th>2213</th>\n",
       "      <td>50.156968</td>\n",
       "      <td>47</td>\n",
       "      <td>-3.156968</td>\n",
       "    </tr>\n",
       "    <tr>\n",
       "      <th>7850</th>\n",
       "      <td>84.137616</td>\n",
       "      <td>84</td>\n",
       "      <td>-0.137616</td>\n",
       "    </tr>\n",
       "    <tr>\n",
       "      <th>2946</th>\n",
       "      <td>69.333477</td>\n",
       "      <td>69</td>\n",
       "      <td>-0.333477</td>\n",
       "    </tr>\n",
       "    <tr>\n",
       "      <th>6842</th>\n",
       "      <td>48.827567</td>\n",
       "      <td>47</td>\n",
       "      <td>-1.827567</td>\n",
       "    </tr>\n",
       "    <tr>\n",
       "      <th>...</th>\n",
       "      <td>...</td>\n",
       "      <td>...</td>\n",
       "      <td>...</td>\n",
       "    </tr>\n",
       "    <tr>\n",
       "      <th>355</th>\n",
       "      <td>82.678595</td>\n",
       "      <td>83</td>\n",
       "      <td>0.321405</td>\n",
       "    </tr>\n",
       "    <tr>\n",
       "      <th>1651</th>\n",
       "      <td>44.995650</td>\n",
       "      <td>43</td>\n",
       "      <td>-1.995650</td>\n",
       "    </tr>\n",
       "    <tr>\n",
       "      <th>2417</th>\n",
       "      <td>60.169227</td>\n",
       "      <td>60</td>\n",
       "      <td>-0.169227</td>\n",
       "    </tr>\n",
       "    <tr>\n",
       "      <th>7824</th>\n",
       "      <td>87.164259</td>\n",
       "      <td>84</td>\n",
       "      <td>-3.164259</td>\n",
       "    </tr>\n",
       "    <tr>\n",
       "      <th>1367</th>\n",
       "      <td>66.367672</td>\n",
       "      <td>63</td>\n",
       "      <td>-3.367672</td>\n",
       "    </tr>\n",
       "  </tbody>\n",
       "</table>\n",
       "<p>1000 rows × 3 columns</p>\n",
       "</div>"
      ],
      "text/plain": [
       "      Predicted  Actual  Difference\n",
       "1516  50.555830      50   -0.555830\n",
       "2213  50.156968      47   -3.156968\n",
       "7850  84.137616      84   -0.137616\n",
       "2946  69.333477      69   -0.333477\n",
       "6842  48.827567      47   -1.827567\n",
       "...         ...     ...         ...\n",
       "355   82.678595      83    0.321405\n",
       "1651  44.995650      43   -1.995650\n",
       "2417  60.169227      60   -0.169227\n",
       "7824  87.164259      84   -3.164259\n",
       "1367  66.367672      63   -3.367672\n",
       "\n",
       "[1000 rows x 3 columns]"
      ]
     },
     "execution_count": 7,
     "metadata": {},
     "output_type": "execute_result"
    }
   ],
   "source": [
    "y_pred = lf.predict(X_test)\n",
    "\n",
    "new_df = pd.DataFrame({'Predicted': y_pred, 'Actual': y_test, 'Difference': y_test - y_pred})\n",
    "new_df.head(1000)"
   ]
  },
  {
   "cell_type": "markdown",
   "metadata": {},
   "source": [
    "### Considering different methods of measuring accuracy"
   ]
  },
  {
   "cell_type": "markdown",
   "metadata": {},
   "source": [
    "\n",
    "#### Manually using Absolute and Mean Square method"
   ]
  },
  {
   "cell_type": "code",
   "execution_count": 8,
   "metadata": {},
   "outputs": [
    {
     "name": "stdout",
     "output_type": "stream",
     "text": [
      "Mean Absolute Error (MAE): +/- 1.57 %\n",
      "Mean Squared Error (MSE): +/- 3.86 %\n",
      "Root Mean Squared Error (RMSE): +/- 1.96 %\n"
     ]
    }
   ],
   "source": [
    "total_absolute_error = 0\n",
    "total_squared_error = 0\n",
    "\n",
    "for i in range(len(y_test)):\n",
    "    diff = y_test.iloc[i] - y_pred[i]    \n",
    "    total_absolute_error += abs(diff)\n",
    "    total_squared_error += diff ** 2\n",
    "\n",
    "mae = total_absolute_error / len(y_test)\n",
    "mse = total_squared_error / len(y_test)\n",
    "\n",
    "print(f\"Mean Absolute Error (MAE): +/- {round(mae, 2)} %\")\n",
    "print(f\"Mean Squared Error (MSE): +/- {round(mse, 2)} %\")\n",
    "print(f\"Root Mean Squared Error (RMSE): +/- {round(mse ** 0.5, 2)} %\")"
   ]
  },
  {
   "cell_type": "markdown",
   "metadata": {},
   "source": [
    "Now we'll do the same accuracy calculations using Scikit-learns inbuilt functions..."
   ]
  },
  {
   "cell_type": "code",
   "execution_count": 9,
   "metadata": {},
   "outputs": [
    {
     "name": "stdout",
     "output_type": "stream",
     "text": [
      "Mean Absolute Error (MAE): +/- 1.57 %\n",
      "Mean Squared Error (MSE): +/- 3.86 %\n",
      "Root Mean Squared Error (RMSE): +/- 1.96 %\n"
     ]
    }
   ],
   "source": [
    "from sklearn.metrics import mean_absolute_error, mean_squared_error\n",
    "\n",
    "mae = mean_absolute_error(y_true=y_test, y_pred=y_pred)\n",
    "mse = mean_squared_error(y_true=y_test, y_pred=y_pred)\n",
    "\n",
    "print(f\"Mean Absolute Error (MAE): +/- {round(mae, 2)} %\")\n",
    "print(f\"Mean Squared Error (MSE): +/- {round(mse, 2)} %\")\n",
    "print (f\"Root Mean Squared Error (RMSE): +/- {round(mse ** 0.5, 2)} %\")"
   ]
  },
  {
   "cell_type": "markdown",
   "metadata": {},
   "source": [
    "As you can see this produces the same values.\n",
    "\n",
    "### R-squared score\n",
    "\n",
    "We can also measure the accuracy of linear regression models using R-squared scores.\n",
    "\n",
    "R-squared = Represents the proportion of the variance in the dependent variable that is predictable from the independent variables."
   ]
  },
  {
   "cell_type": "code",
   "execution_count": 10,
   "metadata": {},
   "outputs": [
    {
     "name": "stdout",
     "output_type": "stream",
     "text": [
      "R2 Score: 0.9870785412995526\n"
     ]
    }
   ],
   "source": [
    "from sklearn.metrics import r2_score\n",
    "\n",
    "r2 = r2_score(y_true=y_test, y_pred=y_pred)\n",
    "\n",
    "print(f\"R2 Score: {r2}\")"
   ]
  },
  {
   "cell_type": "markdown",
   "metadata": {},
   "source": [
    "This seems to produce the same value you get from this..."
   ]
  },
  {
   "cell_type": "code",
   "execution_count": 11,
   "metadata": {},
   "outputs": [
    {
     "name": "stdout",
     "output_type": "stream",
     "text": [
      "LF Score:  0.9870785412995526\n"
     ]
    }
   ],
   "source": [
    "# Return the coefficient of determination of the prediction.\n",
    "lf_score = lf.score(X_test, y_test)\n",
    "\n",
    "print(\"LF Score: \", lf_score)"
   ]
  },
  {
   "cell_type": "markdown",
   "metadata": {},
   "source": [
    "# Conclusion\n",
    "\n",
    "There only really seems to be a strong relationship between performance index and previous scores."
   ]
  }
 ],
 "metadata": {
  "kernelspec": {
   "display_name": "machine-learning-practise",
   "language": "python",
   "name": "python3"
  },
  "language_info": {
   "codemirror_mode": {
    "name": "ipython",
    "version": 3
   },
   "file_extension": ".py",
   "mimetype": "text/x-python",
   "name": "python",
   "nbconvert_exporter": "python",
   "pygments_lexer": "ipython3",
   "version": "3.12.4"
  }
 },
 "nbformat": 4,
 "nbformat_minor": 2
}